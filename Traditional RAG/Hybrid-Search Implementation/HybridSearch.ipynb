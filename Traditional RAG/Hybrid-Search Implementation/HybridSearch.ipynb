{
 "cells": [
  {
   "cell_type": "code",
   "execution_count": 1,
   "id": "03255613",
   "metadata": {},
   "outputs": [
    {
     "name": "stdout",
     "output_type": "stream",
     "text": [
      "Extracted: Banking_Data.zip\n",
      "Extracted: Regulated_Products.zip\n",
      "📄 Loaded 2521 PDF pages.\n",
      "Length of Text Chunks 16007\n"
     ]
    }
   ],
   "source": [
    "import os\n",
    "import zipfile\n",
    "from langchain_community.document_loaders import PyPDFLoader, DirectoryLoader\n",
    "from langchain.text_splitter import RecursiveCharacterTextSplitter\n",
    "from langchain_huggingface import HuggingFaceEmbeddings\n",
    "from langchain_community.vectorstores import FAISS\n",
    "from langchain.retrievers import BM25Retriever, EnsembleRetriever\n",
    "# print(PyPDFLoader)\n",
    "# print(RecursiveCharacterTextSplitter)\n",
    "# print(FAISS)\n",
    "# print(HuggingFaceEmbeddings)\n",
    "\n",
    "\n",
    "#Extract zip files from data folder\n",
    "DATA_PATH='Data/'\n",
    "\n",
    "def extract_zip_files(folder_path):\n",
    "    for filename in os.listdir(folder_path):\n",
    "        if filename.endswith('.zip'):\n",
    "            zip_path=os.path.join(folder_path, filename)\n",
    "            with zipfile.ZipFile(zip_path, 'r')as zip_ref:\n",
    "                zip_ref.extractall(folder_path)\n",
    "                print(f'Extracted: {filename}')\n",
    "\n",
    "\n",
    "\n",
    "extract_zip_files(DATA_PATH)\n",
    "\n",
    "\n",
    "\n",
    "\n",
    "#Step-1: load all pdfs (even inside subfolders)\n",
    "def load_pdf_files(data_path):\n",
    "    all_documents=[]\n",
    "    for root, dirs, files in os.walk(data_path):\n",
    "        for file in files:\n",
    "            if file.endswith('.pdf'):\n",
    "                pdf_path=os.path.join(root, file)\n",
    "                loader=PyPDFLoader(pdf_path)\n",
    "                documents = loader.load()\n",
    "                all_documents.extend(documents)\n",
    "    print(f\"📄 Loaded {len(all_documents)} PDF pages.\")\n",
    "    return all_documents\n",
    "\n",
    "documents=load_pdf_files(DATA_PATH)\n",
    "\n",
    "# def load_pdf_files(data):\n",
    "#     loader=DirectoryLoader(data,\n",
    "#                            glob='*.pdf',\n",
    "#                            loader_cls=PyPDFLoader)\n",
    "#     documents=loader.load()\n",
    "#     return documents\n",
    "\n",
    "# documents=load_pdf_files(data=DATA_PATH)\n",
    "# print('Length of PDF Pages', len(documents))\n",
    "\n",
    "#Step: 2\n",
    "def create_chunks(extracted_data):\n",
    "    text_splitter=RecursiveCharacterTextSplitter(chunk_size=500, chunk_overlap=150)\n",
    "    text_chunks=text_splitter.split_documents(extracted_data)\n",
    "    return text_chunks\n",
    "\n",
    "text_chunks=create_chunks(extracted_data=documents)\n",
    "print('Length of Text Chunks', len(text_chunks))"
   ]
  },
  {
   "cell_type": "code",
   "execution_count": null,
   "id": "44ab3411",
   "metadata": {},
   "outputs": [],
   "source": []
  },
  {
   "cell_type": "code",
   "execution_count": 3,
   "id": "39b50f33",
   "metadata": {},
   "outputs": [],
   "source": [
    "def get_embedding_model():\n",
    "    embedding_model=HuggingFaceEmbeddings(model_name='sentence-transformers/all-MiniLM-L6-v2')\n",
    "    return embedding_model\n",
    "\n",
    "embedding_model=get_embedding_model()"
   ]
  },
  {
   "cell_type": "code",
   "execution_count": 4,
   "id": "16290a1b",
   "metadata": {},
   "outputs": [],
   "source": [
    "from langchain.vectorstores import FAISS\n",
    "vectorstore=FAISS.from_documents(text_chunks, embedding_model)"
   ]
  },
  {
   "cell_type": "code",
   "execution_count": 5,
   "id": "be5cc00b",
   "metadata": {},
   "outputs": [
    {
     "data": {
      "text/plain": [
       "VectorStoreRetriever(tags=['FAISS', 'HuggingFaceEmbeddings'], vectorstore=<langchain_community.vectorstores.faiss.FAISS object at 0x0000022079B70B00>, search_kwargs={'k': 3})"
      ]
     },
     "execution_count": 5,
     "metadata": {},
     "output_type": "execute_result"
    }
   ],
   "source": [
    "vectorstore_retriever=vectorstore.as_retriever(search_kwargs={\"k\": 3})\n",
    "vectorstore_retriever"
   ]
  },
  {
   "cell_type": "code",
   "execution_count": 6,
   "id": "cd52c6db",
   "metadata": {},
   "outputs": [],
   "source": [
    "from langchain.retrievers import BM25Retriever, EnsembleRetriever"
   ]
  },
  {
   "cell_type": "code",
   "execution_count": 7,
   "metadata": {},
   "outputs": [],
   "source": [
    "keyword_retriever=BM25Retriever.from_documents(text_chunks)"
   ]
  },
  {
   "cell_type": "code",
   "execution_count": 8,
   "metadata": {},
   "outputs": [],
   "source": [
    "keyword_retriever.k=3"
   ]
  },
  {
   "cell_type": "code",
   "execution_count": null,
   "id": "f6219c51",
   "metadata": {},
   "outputs": [],
   "source": [
    "ensemble_retriever=EnsembleRetriever(retrievers=[vectorstore_retriever, keyword_retriever], weights=[0.5, 0.5] )"
   ]
  },
  {
   "cell_type": "code",
   "execution_count": 12,
   "id": "a01f9f71",
   "metadata": {},
   "outputs": [],
   "source": [
    "from langchain.chains import RetrievalQA\n",
    "from langchain.prompts import PromptTemplate\n",
    "from langchain_groq import ChatGroq  # NEW import\n",
    "from dotenv import load_dotenv\n",
    "load_dotenv() \n",
    "\n",
    "# Step 1: Setup LLM (Mistral-7B via Groq)\n",
    "GROQ_API_KEY = os.getenv(\"GROQ_API_KEY\")\n",
    "\n",
    "def load_llm():\n",
    "    llm = ChatGroq(\n",
    "        api_key=GROQ_API_KEY,\n",
    "        model_name=\"llama3-70b-8192\",  # You can also try \"llama3-70b-8192\" or \"gemma-7b-it\"\n",
    "        temperature=0.5,\n",
    "        max_tokens=512\n",
    "    )\n",
    "    return llm\n",
    "\n",
    "# Step 2: Create Custom Prompt\n",
    "CUSTOM_PROMPT_TEMPLATE = \"\"\"\n",
    "You are a helpful, professional, and knowledgeable banking assistant specializing in the UAE banking system. Your role is to provide clear, accurate, and up-to-date information about:\n",
    "\n",
    "- UAE Central Bank regulations\n",
    "- Islamic banking and conventional banking in UAE\n",
    "- Accounts (current, savings, salary)\n",
    "- Credit cards, loans, and financing options\n",
    "- KYC (Know Your Customer) requirements\n",
    "- Bank transfers (local, international, WPS)\n",
    "- Digital banking and mobile apps\n",
    "- Fees, charges, and interest rates\n",
    "- Banking for residents vs. non-residents\n",
    "- Bank working hours and public holidays\n",
    "- Account opening for individuals and businesses\n",
    "\n",
    "Always tailor your responses using the following guidelines:\n",
    "\n",
    "1. **Context-Aware:** Respond based on the banking laws, financial institutions, and practices specific to the United Arab Emirates (UAE).\n",
    "2. **Concise Yet Informative:** Give to-the-point responses but provide links to official resources if more detail is needed.\n",
    "3. **Professional Tone:** Maintain a respectful, formal tone with a customer-centric approach.\n",
    "4. **Do Not Provide Legal or Investment Advice.**\n",
    "5. **If Unsure:** If the user's question requires legal interpretation or up-to-date verification (like current interest rates), suggest checking with the relevant UAE bank or Central Bank website.\n",
    "\n",
    "Context:\n",
    "{context}\n",
    "\n",
    "Question:\n",
    "{question}\n",
    "\n",
    "Start the answer directly. No small talk please.\n",
    "\"\"\"\n",
    "\n",
    "def set_custom_prompt(custom_prompt_template):\n",
    "    prompt = PromptTemplate(\n",
    "        template=custom_prompt_template,\n",
    "        input_variables=[\"context\", \"question\"]\n",
    "    )\n",
    "    return prompt\n"
   ]
  },
  {
   "cell_type": "code",
   "execution_count": 13,
   "id": "72ede273",
   "metadata": {},
   "outputs": [],
   "source": [
    "#Create  Normal RetrievalQA Chain\n",
    "normal_qa_chain = RetrievalQA.from_chain_type(\n",
    "    llm=load_llm(),\n",
    "    chain_type=\"stuff\",\n",
    "    retriever=vectorstore_retriever,\n",
    "    return_source_documents=True,\n",
    "    chain_type_kwargs={\"prompt\": set_custom_prompt(CUSTOM_PROMPT_TEMPLATE)}\n",
    ")"
   ]
  },
  {
   "cell_type": "code",
   "execution_count": 17,
   "id": "d32e1033",
   "metadata": {},
   "outputs": [],
   "source": [
    "#Create  Hybrid RetrievalQA Chain\n",
    "hybrid_qa_chain = RetrievalQA.from_chain_type(\n",
    "    llm=load_llm(),\n",
    "    chain_type=\"stuff\",\n",
    "    retriever=ensemble_retriever,\n",
    "    return_source_documents=True,\n",
    "    chain_type_kwargs={\"prompt\": set_custom_prompt(CUSTOM_PROMPT_TEMPLATE)}\n",
    ")"
   ]
  },
  {
   "cell_type": "code",
   "execution_count": 18,
   "id": "a44fd60d",
   "metadata": {},
   "outputs": [],
   "source": [
    "response1=normal_qa_chain.invoke(\"tell me how can i get home loans?\")"
   ]
  },
  {
   "cell_type": "code",
   "execution_count": 19,
   "id": "ae4cbedd",
   "metadata": {},
   "outputs": [
    {
     "name": "stdout",
     "output_type": "stream",
     "text": [
      "To obtain a home loan in the UAE, you can follow these steps:\n",
      "\n",
      "1. **Check your eligibility**: Ensure you meet the lender's eligibility criteria, such as age, income, and credit score requirements.\n",
      "2. **Choose a lender**: Select a mortgage loan provider, such as a bank or financial institution, that offers home loans in the UAE. Compare their interest rates, fees, and terms to find the best option for you.\n",
      "3. **Gather required documents**: Typically, you'll need to provide documents such as:\n",
      "\t* Valid UAE residence visa\n",
      "\t* Emirates ID\n",
      "\t* Salary certificate or proof of income\n",
      "\t* Bank statements\n",
      "\t* Property details (if purchasing a new property)\n",
      "4. **Apply for the loan**: Submit your application to the chosen lender, either online, through a branch, or via a mortgage consultant.\n",
      "5. **Loan processing and approval**: The lender will review your application, verify your documents, and assess your creditworthiness. They may also conduct a property valuation (if applicable).\n",
      "6. **Loan offer and signing**: If approved, the lender will provide a loan offer outlining the terms, interest rate, and repayment schedule. Review and sign the agreement if you're satisfied with the terms.\n",
      "7. **Disbursal and registration**: The lender will disburse the loan amount, and you'll need to register the mortgage with the Dubai Land Department (if purchasing a property in Dubai) or the relevant authority in other emirates.\n",
      "\n",
      "It's essential to note that the UAE Central Bank regulates mortgage lending, and lenders must adhere to the guidelines outlined in the UAE Mortgage Loans and Real Estate Regulations.\n",
      "\n",
      "For more information, I recommend visiting the websites of UAE banks and financial institutions, such as Emirates NBD, Abu Dhabi Commercial Bank, or Dubai Islamic Bank, to explore their home loan offerings and requirements. Additionally, you can consult with a mortgage consultant or financial advisor to get personalized guidance.\n"
     ]
    }
   ],
   "source": [
    "print(response1.get(\"result\"))"
   ]
  },
  {
   "cell_type": "code",
   "execution_count": 20,
   "id": "73ad6f19",
   "metadata": {},
   "outputs": [],
   "source": [
    "response2=hybrid_qa_chain.invoke(\"tell me how can i get home loans?\")"
   ]
  },
  {
   "cell_type": "code",
   "execution_count": 21,
   "id": "ebddc812",
   "metadata": {},
   "outputs": [
    {
     "data": {
      "text/plain": [
       "{'query': 'tell me how can i get home loans?',\n",
       " 'result': \"To obtain a home loan in the UAE, you can follow these steps:\\n\\n1. **Check your eligibility**: Ensure you meet the lender's criteria, including age, income, employment, and credit score requirements.\\n2. **Choose a lender**: Select a mortgage loan provider, such as a bank or financial institution, that offers home loans in the UAE. You can compare rates, terms, and conditions among different lenders.\\n3. **Gather required documents**: Typically, you'll need to provide identification documents (e.g., passport, visa, Emirates ID), income proof (e.g., salary certificate, payslips), and property details (e.g., title deed, property valuation report).\\n4. **Apply for pre-approval**: Submit your application to get pre-approved for a home loan, which will give you an estimate of how much you can borrow.\\n5. **Select a property**: Find a property that meets your needs and budget, and ensure it's free from any encumbrances.\\n6. **Finalize the loan application**: Once you've selected a property, complete the loan application process, providing all required documents and information.\\n7. **Wait for approval and disbursal**: The lender will review your application, conduct due diligence, and disburse the loan amount upon approval.\\n\\nPlease note that the UAE Central Bank regulates mortgage loan providers, and lenders are expected to follow guidelines to ensure borrowers have a sufficient financial interest in the collateral. Additionally, lenders may have specific requirements and processes, so it's essential to check with your chosen lender for detailed information.\\n\\nFor more information on home loans in the UAE, you can visit the websites of UAE banks and financial institutions, such as Emirates NBD, Dubai Islamic Bank, or Abu Dhabi Commercial Bank, or consult with a financial advisor.\",\n",
       " 'source_documents': [Document(id='d8d681f8-a34f-4a95-94d5-c7d47af6a77f', metadata={'producer': 'Adobe PDF Library 16.0', 'creator': 'Adobe InDesign 16.4 (Windows)', 'creationdate': '2023-03-25T21:30:17+05:30', 'moddate': '2023-03-25T21:30:19+05:30', 'trapped': '/False', 'source': 'Data/Regulated_Products\\\\CBUAE_EN_2850_VER2.pdf', 'total_pages': 15, 'page': 3, 'page_label': '4'}, page_content='provide mortgage loans are collectively referred to \\nas ‘mortgage loan providers’.\\nولأغراض هذا النظام، فإن البنوك وشركات التمويل والمؤسسات\\nالمالية الأخرى التي توفر قروض الرهن العقاري، يشار إليها \\nبصورة جماعية، بعبارة “موفري قروض الرهن العقاري”.\\nThese Regulations set minimum standards and \\nregulated financial institutions are encouraged \\nto apply higher standards in order to protect the \\nfinancial soundness of their business. Nothing in \\nthese Regulations prevent mortgage loan providers'),\n",
       "  Document(metadata={'producer': 'Microsoft® Word 2016', 'creator': 'Microsoft® Word 2016', 'creationdate': '2022-12-26T15:56:29+04:00', 'author': 'Suhaila Mohammed AlFalasi', 'moddate': '2022-12-26T15:56:30+04:00', 'source': 'Data/Data\\\\CBUAE_EN_2464_VER2.pdf', 'total_pages': 204, 'page': 192, 'page_label': '193'}, page_content='All payments regardless of the type of payment based on the contract needs to be reported \\n \\nQuestion 10: For branches of foreign banks where the Head Office reports to the home \\nregulator, there are pre -fixed formats prepared and submitted at a frequency as \\nstipulated by home regulator. Can the branch of foreign banks provide such reports \\nin UAE which are submitted to the home regulator as a part of UAE Pillar 3 \\nDisclosures?'),\n",
       "  Document(id='50539082-a895-43c2-99df-981d6171cdd0', metadata={'producer': 'Adobe PDF Library 16.0', 'creator': 'Adobe InDesign 16.4 (Windows)', 'creationdate': '2023-03-25T21:30:17+05:30', 'moddate': '2023-03-25T21:30:19+05:30', 'trapped': '/False', 'source': 'Data/Regulated_Products\\\\CBUAE_EN_2850_VER2.pdf', 'total_pages': 15, 'page': 7, 'page_label': '8'}, page_content='own resources and not from other sources of \\nborrowing (including personal loans or credit \\ncards). The Central Bank expects mortgage \\nloan providers lending policy to be explicit \\nin this regard to ensure the borrower has an \\nappropriate level of financial interest in the \\ncollateral.\\nويجب أن تأتي الدفعة المقدمة المطلوبة من المقترض من \\nمصادره الخاصة وليس من مصادر اقتراض أخرى، )بما في \\nذلك القروض الشخصية أو بطاقات الائتمان(. ويتوقع \\nالمصرف المركزي أن تكون سياسات الإقراض المتبعة لدى'),\n",
       "  Document(metadata={'producer': 'Microsoft® Word 2016', 'creator': 'Microsoft® Word 2016', 'creationdate': '2022-12-26T15:56:29+04:00', 'author': 'Suhaila Mohammed AlFalasi', 'moddate': '2022-12-26T15:56:30+04:00', 'source': 'Data/Data\\\\CBUAE_EN_2464_VER2.pdf', 'total_pages': 204, 'page': 47, 'page_label': '48'}, page_content='46  \\nCBUAE Classification: Public \\nAggregate to get hedging set add-on, \\nwith full offset for systematic components \\nand no offset for idiosyncratic \\ncomponents \\n Aggregate absolute value of currency- \\npair add-ons to get hedging set add-on \\nfor FX derivatives \\n \\n  \\n \\n8. Asset-Class Add-On Calculation \\nSimple summation of add-ons across hedging sets for each asset class \\n \\n \\n9. Aggregate Add-On Calculation \\nSimple summation of asset-class add-ons across asset classes'),\n",
       "  Document(id='6c721484-0623-4cf5-8c4c-942c31c13ac9', metadata={'producer': 'Microsoft® Word 2016', 'creator': 'Microsoft® Word 2016', 'creationdate': '2022-12-26T15:56:29+04:00', 'author': 'Suhaila Mohammed AlFalasi', 'moddate': '2022-12-26T15:56:30+04:00', 'source': 'Data/Data\\\\CBUAE_EN_2464_VER2.pdf', 'total_pages': 204, 'page': 132, 'page_label': '133'}, page_content='Specialised lending Loans for project finance, object finance, \\ncommodities finance, income producing real \\nestate and commercial real estate \\nSmall and medium enterprises treated as \\ncorporates \\nLoans to small and medium enterprises \\nbelonging to a group with annual gross \\nturnover that exceeds AED 250 million \\nPurchased corporate receivables Bank finance against amounts due to \\ncorporates from third parties for goods \\nand/or services provided by them.'),\n",
       "  Document(metadata={'producer': 'Microsoft® Word 2016', 'creator': 'Microsoft® Word 2016', 'creationdate': '2022-12-26T15:56:29+04:00', 'author': 'Suhaila Mohammed AlFalasi', 'moddate': '2022-12-26T15:56:30+04:00', 'source': 'Data/Data\\\\CBUAE_EN_2464_VER2.pdf', 'total_pages': 204, 'page': 46, 'page_label': '47'}, page_content='idiosyncratic components in each \\nhedging set \\nAggregate maturity-category add-ons \\naccording to rules in the standards to get \\nhedging set add-on for interest rate \\nderivatives')]}"
      ]
     },
     "execution_count": 21,
     "metadata": {},
     "output_type": "execute_result"
    }
   ],
   "source": [
    "response2"
   ]
  },
  {
   "cell_type": "code",
   "execution_count": 22,
   "id": "b4be0a7d",
   "metadata": {},
   "outputs": [
    {
     "name": "stdout",
     "output_type": "stream",
     "text": [
      "To obtain a home loan in the UAE, you can follow these steps:\n",
      "\n",
      "1. **Check your eligibility**: Ensure you meet the lender's criteria, including age, income, employment, and credit score requirements.\n",
      "2. **Choose a lender**: Select a mortgage loan provider, such as a bank or financial institution, that offers home loans in the UAE. You can compare rates, terms, and conditions among different lenders.\n",
      "3. **Gather required documents**: Typically, you'll need to provide identification documents (e.g., passport, visa, Emirates ID), income proof (e.g., salary certificate, payslips), and property details (e.g., title deed, property valuation report).\n",
      "4. **Apply for pre-approval**: Submit your application to get pre-approved for a home loan, which will give you an estimate of how much you can borrow.\n",
      "5. **Select a property**: Find a property that meets your needs and budget, and ensure it's free from any encumbrances.\n",
      "6. **Finalize the loan application**: Once you've selected a property, complete the loan application process, providing all required documents and information.\n",
      "7. **Wait for approval and disbursal**: The lender will review your application, conduct due diligence, and disburse the loan amount upon approval.\n",
      "\n",
      "Please note that the UAE Central Bank regulates mortgage loan providers, and lenders are expected to follow guidelines to ensure borrowers have a sufficient financial interest in the collateral. Additionally, lenders may have specific requirements and processes, so it's essential to check with your chosen lender for detailed information.\n",
      "\n",
      "For more information on home loans in the UAE, you can visit the websites of UAE banks and financial institutions, such as Emirates NBD, Dubai Islamic Bank, or Abu Dhabi Commercial Bank, or consult with a financial advisor.\n"
     ]
    }
   ],
   "source": [
    "print(response2.get(\"result\"))"
   ]
  },
  {
   "cell_type": "code",
   "execution_count": null,
   "id": "c10457ae",
   "metadata": {},
   "outputs": [],
   "source": []
  }
 ],
 "metadata": {
  "kernelspec": {
   "display_name": "Python 3",
   "language": "python",
   "name": "python3"
  },
  "language_info": {
   "codemirror_mode": {
    "name": "ipython",
    "version": 3
   },
   "file_extension": ".py",
   "mimetype": "text/x-python",
   "name": "python",
   "nbconvert_exporter": "python",
   "pygments_lexer": "ipython3",
   "version": "3.12.2"
  }
 },
 "nbformat": 4,
 "nbformat_minor": 5
}
